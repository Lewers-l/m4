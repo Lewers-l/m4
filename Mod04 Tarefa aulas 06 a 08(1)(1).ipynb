{
 "cells": [
  {
   "cell_type": "markdown",
   "metadata": {},
   "source": [
    "# Tarefa 03\n",
    "\n",
    "- Leia os enunciados com atenção\n",
    "- Saiba que pode haver mais de uma resposta correta\n",
    "- Insira novas células de código sempre que achar necessário\n",
    "- Em caso de dúvidas, procure os Tutores\n",
    "- Divirta-se :)"
   ]
  },
  {
   "cell_type": "code",
   "execution_count": 1,
   "metadata": {},
   "outputs": [],
   "source": [
    "import pandas as pd\n",
    "import requests"
   ]
  },
  {
   "cell_type": "markdown",
   "metadata": {},
   "source": [
    "####  1) Lendo de APIs\n",
    "Vimos em aula como carregar dados públicos do governo através de um API (*Application Programming Interface*). No exemplo de aula, baixamos os dados de pedidos de verificação de limites (PVL) realizados por estados, e selecionamos apenas aqueles referentes ao estado de São Paulo.\n",
    "\n",
    "1. Repita os mesmos passos feitos em aula, mas selecione os PVLs realizados por municípios no estado do Rio de Janeiro.\n",
    "2. Quais são os três *status* das solicitações mais frequentes na base? Quais são suas frequências?\n",
    "3. Construa uma nova variável que contenha o ano do **status**. Observe que ```data_status``` vem como tipo *object* no **DataFrame**. Dica: você pode usar o método ```.str``` para transformar o tipo da variável em string, em seguida um método como [**slice()**](https://pandas.pydata.org/docs/reference/api/pandas.Series.str.slice.html) ou [**split()**](https://pandas.pydata.org/pandas-docs/stable/reference/api/pandas.Series.str.split.html).\n",
    "4. Indique a frequência de cada ano do campo construído no item (3)."
   ]
  },
  {
   "cell_type": "code",
   "execution_count": 23,
   "metadata": {},
   "outputs": [
    {
     "data": {
      "text/plain": [
       "Deferido                                                 91\n",
       "Arquivado                                                53\n",
       "Regularizado                                             25\n",
       "Arquivado por decurso de prazo                           23\n",
       "Deferido (PVL-IF)                                        16\n",
       "Encaminhado à PGFN com manifestação técnica favorável    13\n",
       "Arquivado a pedido                                        6\n",
       "Em retificação pelo interessado                           3\n",
       "Em análise                                                1\n",
       "Em retificação pelo interessado (PVL-IF)                  1\n",
       "Pendente de regularização                                 1\n",
       "Name: status, dtype: int64"
      ]
     },
     "execution_count": 23,
     "metadata": {},
     "output_type": "execute_result"
    }
   ],
   "source": [
    "url = 'https://apidatalake.tesouro.gov.br/ords/sadipem/tt/pvl?uf=RJ&tipo_interessado=Munic%C3%ADpio'\n",
    "r = requests.get(url)\n",
    "j = r.json()\n",
    "rio_sujo = j['items']\n",
    "rio = pd.DataFrame(rio_sujo)\n",
    "rio['status'].value_counts()\n",
    "#Deferido = 91\n",
    "#Arquivado = 53\n",
    "#Regularizado = 25"
   ]
  },
  {
   "cell_type": "code",
   "execution_count": 38,
   "metadata": {},
   "outputs": [],
   "source": [
    "rio['data_status']\n",
    "rio['ano'] = rio['data_status'].str.slice(start = 6, stop = None, step = 1)\n"
   ]
  },
  {
   "cell_type": "code",
   "execution_count": 42,
   "metadata": {},
   "outputs": [
    {
     "data": {
      "text/plain": [
       "2008    37\n",
       "2007    29\n",
       "2014    20\n",
       "2010    19\n",
       "2019    17\n",
       "2013    15\n",
       "2020    15\n",
       "2012    13\n",
       "2022    12\n",
       "2011    10\n",
       "2009     9\n",
       "2015     9\n",
       "2017     5\n",
       "2021     5\n",
       "2016     4\n",
       "2018     4\n",
       "2006     4\n",
       "2002     4\n",
       "2004     1\n",
       "2003     1\n",
       "Name: ano, dtype: int64"
      ]
     },
     "execution_count": 42,
     "metadata": {},
     "output_type": "execute_result"
    }
   ],
   "source": [
    "rio['ano'].value_counts()"
   ]
  },
  {
   "cell_type": "markdown",
   "metadata": {},
   "source": [
    "####  2) Melhorando a interação com o API\n",
    "Observe dois URLs de consultas diferentes, por exemplo o URL utilizado em aula, e o URL feito no exercício anterior. Compare-os e observe as diferenças.\n",
    "\n",
    "1. Faça uma função em Python que recebe como argumento o UF da consulta e o tipo de interessado (```'Estado'```ou ```Município```), e que devolve os dados da consulta no formato *DataFrame*.\n",
    "2. Quantas solicitações para o Estado podem ser consultadas para Minas Gerais com *status* em 'Arquivado por decurso de prazo' estão registradas?\n",
    "3. Qual é o município da Bahia com mais solicitações deferidas?\n",
    "4. Salve um arquivo .csv com os dados de solicitações da Bahia, com interessado = 'Estado'"
   ]
  },
  {
   "cell_type": "code",
   "execution_count": 51,
   "metadata": {},
   "outputs": [],
   "source": [
    "def consulta(url:str): #definição da função\n",
    "    import pandas as pd #importando as bibliotecas\n",
    "    import requests as req\n",
    "    j = req.get(url) # pegando a url\n",
    "    Dados = j.json() # recebendo os dados\n",
    "    Dados = Dados['items'] # recebendo a lista\n",
    "    data = pd.DataFrame(Dados) # transformando a lista no dataframe\n",
    "    return data # retornando o dataframe"
   ]
  },
  {
   "cell_type": "code",
   "execution_count": 83,
   "metadata": {},
   "outputs": [
    {
     "data": {
      "text/plain": [
       "Encaminhado à PGFN com manifestação técnica favorável    20\n",
       "Deferido                                                  7\n",
       "Arquivado a pedido                                        5\n",
       "Arquivado pela STN                                        3\n",
       "Arquivado                                                 3\n",
       "Indeferido                                                1\n",
       "Arquivado por decurso de prazo                            1\n",
       "Name: status, dtype: int64"
      ]
     },
     "execution_count": 83,
     "metadata": {},
     "output_type": "execute_result"
    }
   ],
   "source": [
    "mg = consulta('https://apidatalake.tesouro.gov.br/ords/sadipem/tt/pvl?uf=MG&tipo_interessado=Estado')\n",
    "mg['status'].value_counts()\n",
    "#status = mg[mg['status'] == 'Arquivado por decurso de prazo']\n",
    "#status.value_counts()\n"
   ]
  },
  {
   "cell_type": "code",
   "execution_count": 82,
   "metadata": {},
   "outputs": [
    {
     "data": {
      "text/plain": [
       "Luís Eduardo Magalhães    14\n",
       "Vitória da Conquista      11\n",
       "Lauro de Freitas          10\n",
       "Camaçari                  10\n",
       "Barreiras                  8\n",
       "                          ..\n",
       "Salinas da Margarida       1\n",
       "Lençóis                    1\n",
       "Nilo Peçanha               1\n",
       "Jeremoabo                  1\n",
       "Itapicuru                  1\n",
       "Name: interessado, Length: 173, dtype: int64"
      ]
     },
     "execution_count": 82,
     "metadata": {},
     "output_type": "execute_result"
    }
   ],
   "source": [
    "ba = consulta('https://apidatalake.tesouro.gov.br/ords/sadipem/tt/pvl?uf=BA&tipo_interessado=Munic%C3%ADpio')\n",
    "cond = ba['status'] == 'Deferido'\n",
    "ba_deferido = ba[cond]\n",
    "ba_deferido['interessado'].value_counts()\n",
    "#Luís Eduardo Magalhães com 14"
   ]
  },
  {
   "cell_type": "code",
   "execution_count": 91,
   "metadata": {},
   "outputs": [],
   "source": [
    "ba = consulta('https://apidatalake.tesouro.gov.br/ords/sadipem/tt/pvl?uf=BA&tipo_interessado=Munic%C3%ADpio')\n",
    "cond = ba['interessado'] == 'Salvador'\n",
    "ba_estado = ba[cond]\n",
    "ba_estado.to_csv('salvador.csv')\n",
    "\n"
   ]
  }
 ],
 "metadata": {
  "kernelspec": {
   "display_name": "Python 3",
   "language": "python",
   "name": "python3"
  },
  "language_info": {
   "codemirror_mode": {
    "name": "ipython",
    "version": 3
   },
   "file_extension": ".py",
   "mimetype": "text/x-python",
   "name": "python",
   "nbconvert_exporter": "python",
   "pygments_lexer": "ipython3",
   "version": "3.8.8"
  }
 },
 "nbformat": 4,
 "nbformat_minor": 4
}
